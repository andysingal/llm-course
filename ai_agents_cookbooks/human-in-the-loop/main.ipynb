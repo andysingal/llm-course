{
 "cells": [
  {
   "cell_type": "code",
   "execution_count": null,
   "id": "f3eda589",
   "metadata": {},
   "outputs": [],
   "source": [
    "from graph import graph\n",
    "query = \"What is Agentic AI?\"\n",
    "config = {\"configurable\": {\"thread_id\": \"123\"}}\n",
    "result = graph.invoke({\"messages\": query} , config)\n",
    "result\n",
    "\n"
   ]
  },
  {
   "cell_type": "code",
   "execution_count": null,
   "id": "f10a32e7",
   "metadata": {},
   "outputs": [
    {
     "data": {
      "text/plain": [
       "{'messages': [HumanMessage(content='What is Agentic AI?', additional_kwargs={}, response_metadata={}, id='8bf22904-87f8-4717-ac3b-f83c1a14db37')],\n",
       " 'input': [HumanMessage(content='What is Agentic AI?', additional_kwargs={}, response_metadata={}, id='8bf22904-87f8-4717-ac3b-f83c1a14db37')],\n",
       " 'research_result': 'Agentic AI is a class of artificial intelligence that focuses on autonomous systems capable of making decisions and performing tasks without human intervention. These systems utilize AI agents to conduct automated operations, often employing methods like deep learning, reinforcement learning, and multimodal learning to process and integrate different types of data (text, images, audio, etc.). The hallmark of Agentic AI is its ability to act independently to achieve predetermined goals, distinguishing it from conventional software that adheres strictly to pre-defined rules.\\n\\nApplications of Agentic AI are diverse, encompassing areas such as autonomous vehicles, industrial automation, and tailored healthcare solutions, where these AI systems can optimize processes and provide personalized insights. Companies like IBM, Amazon Web Services (AWS), and NVIDIA are actively developing platforms that support the implementation of Agentic AI in various business functions, enhancing productivity and decision-making capabilities.'}"
      ]
     },
     "execution_count": 2,
     "metadata": {},
     "output_type": "execute_result"
    }
   ],
   "source": [
    "from langgraph.types import Command\n",
    "\n",
    "feedback = \"\"\"\n",
    "Context or applications: I'm interested in using Agentic AI for building systems that can interact with humans, ask for clarification, and adapt their behavior — especially in multi-agent setups.\n",
    "\n",
    "Definition: I'm more interested in a clear technical definition, but also open to understanding the broader implications.\n",
    "\n",
    "Examples: I’m working with tools like LangGraph and experimenting with human-in-the-loop agents, so practical system examples are useful.\n",
    "\n",
    "Ethics: Yes, I'm also thinking about ethical concer0ns — mainly around safe behavior, human oversight, and avoiding unpredictable outcomes.\n",
    "\"\"\"\n",
    "\n",
    "graph.invoke(Command(resume={\"messages\": \"definition\"}), config)"
   ]
  },
  {
   "cell_type": "code",
   "execution_count": null,
   "id": "18c9a317",
   "metadata": {},
   "outputs": [],
   "source": []
  }
 ],
 "metadata": {
  "kernelspec": {
   "display_name": "human-in-loop-RG_sgHHK-py3.12",
   "language": "python",
   "name": "python3"
  },
  "language_info": {
   "codemirror_mode": {
    "name": "ipython",
    "version": 3
   },
   "file_extension": ".py",
   "mimetype": "text/x-python",
   "name": "python",
   "nbconvert_exporter": "python",
   "pygments_lexer": "ipython3",
   "version": "3.12.0"
  }
 },
 "nbformat": 4,
 "nbformat_minor": 5
}
