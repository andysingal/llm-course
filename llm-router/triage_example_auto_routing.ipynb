{
  "nbformat": 4,
  "nbformat_minor": 0,
  "metadata": {
    "colab": {
      "provenance": [],
      "include_colab_link": true
    },
    "kernelspec": {
      "name": "python3",
      "display_name": "Python 3"
    },
    "language_info": {
      "name": "python"
    }
  },
  "cells": [
    {
      "cell_type": "markdown",
      "metadata": {
        "id": "view-in-github",
        "colab_type": "text"
      },
      "source": [
        "<a href=\"https://colab.research.google.com/gist/jbdamask/8d53d0b017fc8cb8b3d8a20be6bc8d92/triage_example_auto_routing.ipynb\" target=\"_parent\"><img src=\"https://colab.research.google.com/assets/colab-badge.svg\" alt=\"Open In Colab\"/></a>"
      ]
    },
    {
      "cell_type": "code",
      "execution_count": 1,
      "metadata": {
        "id": "aQYejve9XUMP"
      },
      "outputs": [],
      "source": [
        "# %%\n",
        "!pip install --quiet \"openai>=1.14.0\" \"pydantic>=2.6.0\"\n"
      ]
    },
    {
      "cell_type": "code",
      "source": [
        "# %%\n",
        "from openai import OpenAI\n",
        "from pydantic import BaseModel, Field\n",
        "from typing import Callable, Any, Dict   # ← Callable is imported here\n",
        "import os, json, textwrap\n",
        "import pandas as pd\n",
        "from google.colab import userdata, files\n",
        "from enum import Enum\n",
        "\n",
        "client = OpenAI(api_key=userdata.get('OPENAI_API_KEY'))"
      ],
      "metadata": {
        "id": "3Pfv2pWWXYkx"
      },
      "execution_count": 2,
      "outputs": []
    },
    {
      "cell_type": "code",
      "source": [
        "class Dog(BaseModel):\n",
        "    breed: str = Field(..., description=\"Common breed name, e.g. Labrador Retriever\")\n",
        "    average_size: str = Field(..., description=\"Typical adult size (height or weight)\")\n",
        "    personality: str = Field(..., description=\"Brief temperament description\")\n"
      ],
      "metadata": {
        "id": "Xd8_cjIKp37m"
      },
      "execution_count": 3,
      "outputs": []
    },
    {
      "cell_type": "code",
      "source": [
        "class Route(str, Enum):\n",
        "    structured_dog = \"structured_dog\"\n",
        "    search = \"search\"\n",
        "    download = \"download\"\n",
        "\n",
        "class TriageDecision(BaseModel):\n",
        "    route: Route"
      ],
      "metadata": {
        "id": "Fl9tlHsmcMHt"
      },
      "execution_count": 4,
      "outputs": []
    },
    {
      "cell_type": "code",
      "source": [
        "RouteHandler = Callable[[str], Any]\n",
        "ROUTE_TABLE: Dict[Route, RouteHandler] = {}\n",
        "\n",
        "def register(route: Route) -> Callable[[RouteHandler], RouteHandler]:\n",
        "    \"\"\"Decorator that registers a handler for a route.\"\"\"\n",
        "    def _wrap(fn: RouteHandler) -> RouteHandler:\n",
        "        ROUTE_TABLE[route] = fn\n",
        "        return fn\n",
        "    return _wrap"
      ],
      "metadata": {
        "id": "gZzVg5xToyUt"
      },
      "execution_count": 5,
      "outputs": []
    },
    {
      "cell_type": "code",
      "source": [
        "@register(Route.structured_dog)\n",
        "# def get_dog_info(breed_query: str) -> Dog:\n",
        "def _handle_structured_dog(user_query: str):\n",
        "    \"\"\"\n",
        "    Ask the model for breed details and validate with Pydantic.\n",
        "    \"\"\"\n",
        "    # schema = Dog.model_json_schema()\n",
        "    resp = client.responses.parse(\n",
        "        model=\"gpt-4o-mini\",\n",
        "        input=f\"Describe the dog breed in this query: '{user_query}'.\",\n",
        "        text_format=Dog,\n",
        "    )\n",
        "    raw_json = resp.output[0].content[0].text\n",
        "    return Dog.model_validate_json(raw_json)\n"
      ],
      "metadata": {
        "id": "ljA6uaGTcJEH"
      },
      "execution_count": 6,
      "outputs": []
    },
    {
      "cell_type": "code",
      "source": [
        "@register(Route.search)\n",
        "def _handle_search(user_query: str) -> str:\n",
        "    \"\"\"\n",
        "    Perform a real-time web search and return the model’s answer.\n",
        "    \"\"\"\n",
        "    resp = client.responses.create(\n",
        "        model=\"gpt-4o-mini\",\n",
        "        input=user_query,\n",
        "        tools=[{\"type\": \"web_search\"}],  # let the model invoke it\n",
        "\n",
        "    )\n",
        "\n",
        "    return resp.output[1].content[0].text  # text answer follows the web_search_call\n"
      ],
      "metadata": {
        "id": "ts0BQb9McJ-w"
      },
      "execution_count": 7,
      "outputs": []
    },
    {
      "cell_type": "code",
      "source": [
        "@register(Route.download)\n",
        "def _handle_download(_: str):\n",
        "    \"\"\"\n",
        "    Save some data\n",
        "    \"\"\"\n",
        "    data = {'col1': [1, 2, 3], 'col2': [4, 5, 6]}\n",
        "    df = pd.DataFrame(data)\n",
        "    df.to_csv('output.csv', index=False)\n",
        "    print(\"downloading your file\")\n",
        "    files.download('output.csv')\n",
        "    return (\"Check your download folder for output.csv\")"
      ],
      "metadata": {
        "id": "R5l-8gLfEcr0"
      },
      "execution_count": 8,
      "outputs": []
    },
    {
      "cell_type": "code",
      "source": [
        "def triage_query(user_query: str) -> Route:\n",
        "    \"\"\"\n",
        "    Ask the model what the user wants.\n",
        "    \"\"\"\n",
        "    system = textwrap.dedent(\n",
        "        \"\"\"\n",
        "        You are a router.\n",
        "        Your only job is to determine which route best matches the user's query.\n",
        "        Note that certain queries may imply multiple routes. In such cases,\n",
        "        choose the primary route that best fits the main intent of the query.\n",
        "        Respond ONLY with valid JSON.\n",
        "        \"\"\"\n",
        "    )\n",
        "    resp = client.responses.parse(\n",
        "        model=\"gpt-4.1-nano\",\n",
        "        input=[{\"role\": \"developer\", \"content\": system},\n",
        "               {\"role\": \"user\", \"content\": user_query}],\n",
        "        text_format=TriageDecision,\n",
        "    )\n",
        "    print(TriageDecision.model_validate_json(resp.output[0].content[0].text).route)\n",
        "    return TriageDecision.model_validate_json(resp.output[0].content[0].text).route"
      ],
      "metadata": {
        "id": "-J65JchLoR_h"
      },
      "execution_count": 9,
      "outputs": []
    },
    {
      "cell_type": "code",
      "source": [
        "def smart_answer(user_query: str):\n",
        "    route   = triage_query(user_query)\n",
        "    handler = ROUTE_TABLE.get(route, ROUTE_TABLE[Route.search])  # default\n",
        "    return handler(user_query)"
      ],
      "metadata": {
        "id": "tsJHb7aqq2Ij"
      },
      "execution_count": 10,
      "outputs": []
    },
    {
      "cell_type": "code",
      "source": [
        "# %%\n",
        "if __name__ == \"__main__\":\n",
        "    print(\"Structured run →\", smart_answer(\"Tell me about the Bernese Mountain Dog\"))\n",
        "    print(\"Search run      →\", smart_answer(\"What are the top VC deals this week?\"))\n",
        "    print(\"Save file \", smart_answer(\"Save it!\"))\n"
      ],
      "metadata": {
        "colab": {
          "base_uri": "https://localhost:8080/",
          "height": 519
        },
        "id": "n6mjPQJicPZw",
        "outputId": "4f67b48f-85dd-4683-ac66-873f839c56dd"
      },
      "execution_count": 11,
      "outputs": [
        {
          "output_type": "stream",
          "name": "stdout",
          "text": [
            "Route.structured_dog\n",
            "Structured run → breed='Bernese Mountain Dog' average_size='70-115 lbs (31-52 kg)' personality='Gentle, affectionate, and good-natured; friendly with children and other pets.'\n",
            "Route.search\n",
            "Search run      → As of April 25, 2025, several significant venture capital (VC) deals have been reported:\n",
            "\n",
            "- **Butterfly Effect** raised $75 million to advance its initiatives. ([axios.com](https://www.axios.com/newsletters/axios-pro-rata-54c11523-671b-4a53-9739-99b0e4688ad5?utm_source=openai))\n",
            "\n",
            "- **Fora** secured $40 million in a Series C funding round. ([axios.com](https://www.axios.com/newsletters/axios-pro-rata-54c11523-671b-4a53-9739-99b0e4688ad5?utm_source=openai))\n",
            "\n",
            "- **Reducto** completed a $24.5 million Series A funding round. ([axios.com](https://www.axios.com/newsletters/axios-pro-rata-54c11523-671b-4a53-9739-99b0e4688ad5?utm_source=openai))\n",
            "\n",
            "- **Supabase** raised $200 million to support its growth. ([axios.com](https://www.axios.com/newsletters/axios-pro-rata-633287cb-2d7a-410d-8c3a-dea15f27ff16?utm_source=openai))\n",
            "\n",
            "- **Manychat** secured $140 million in funding. ([axios.com](https://www.axios.com/newsletters/axios-pro-rata-633287cb-2d7a-410d-8c3a-dea15f27ff16?utm_source=openai))\n",
            "\n",
            "- **Electra** raised $115 million for the development of hybrid electric aircraft. ([axios.com](https://www.axios.com/newsletters/axios-pro-rata-633287cb-2d7a-410d-8c3a-dea15f27ff16?utm_source=openai))\n",
            "\n",
            "These investments highlight the continued interest and confidence in sectors such as technology, clean energy, and aerospace.\n",
            "\n",
            "\n",
            "## Recent Notable Venture Capital Deals:\n",
            "- [Axios Pro Rata: LP fear](https://www.axios.com/newsletters/axios-pro-rata-54c11523-671b-4a53-9739-99b0e4688ad5?utm_source=openai)\n",
            "- [Axios Pro Rata: QB-to-VC](https://www.axios.com/newsletters/axios-pro-rata-633287cb-2d7a-410d-8c3a-dea15f27ff16?utm_source=openai)\n",
            "- [✈️ Axios Pro Rata: Tail tales](https://www.axios.com/newsletters/axios-pro-rata-01d99674-6be8-4232-b662-a418d99259fe?utm_source=openai) \n",
            "Route.download\n",
            "downloading your file\n"
          ]
        },
        {
          "output_type": "display_data",
          "data": {
            "text/plain": [
              "<IPython.core.display.Javascript object>"
            ],
            "application/javascript": [
              "\n",
              "    async function download(id, filename, size) {\n",
              "      if (!google.colab.kernel.accessAllowed) {\n",
              "        return;\n",
              "      }\n",
              "      const div = document.createElement('div');\n",
              "      const label = document.createElement('label');\n",
              "      label.textContent = `Downloading \"${filename}\": `;\n",
              "      div.appendChild(label);\n",
              "      const progress = document.createElement('progress');\n",
              "      progress.max = size;\n",
              "      div.appendChild(progress);\n",
              "      document.body.appendChild(div);\n",
              "\n",
              "      const buffers = [];\n",
              "      let downloaded = 0;\n",
              "\n",
              "      const channel = await google.colab.kernel.comms.open(id);\n",
              "      // Send a message to notify the kernel that we're ready.\n",
              "      channel.send({})\n",
              "\n",
              "      for await (const message of channel.messages) {\n",
              "        // Send a message to notify the kernel that we're ready.\n",
              "        channel.send({})\n",
              "        if (message.buffers) {\n",
              "          for (const buffer of message.buffers) {\n",
              "            buffers.push(buffer);\n",
              "            downloaded += buffer.byteLength;\n",
              "            progress.value = downloaded;\n",
              "          }\n",
              "        }\n",
              "      }\n",
              "      const blob = new Blob(buffers, {type: 'application/binary'});\n",
              "      const a = document.createElement('a');\n",
              "      a.href = window.URL.createObjectURL(blob);\n",
              "      a.download = filename;\n",
              "      div.appendChild(a);\n",
              "      a.click();\n",
              "      div.remove();\n",
              "    }\n",
              "  "
            ]
          },
          "metadata": {}
        },
        {
          "output_type": "display_data",
          "data": {
            "text/plain": [
              "<IPython.core.display.Javascript object>"
            ],
            "application/javascript": [
              "download(\"download_c87d1824-5c2d-4eb3-b846-49b2038df723\", \"output.csv\", 22)"
            ]
          },
          "metadata": {}
        },
        {
          "output_type": "stream",
          "name": "stdout",
          "text": [
            "Save file  Check your download folder for output.csv\n"
          ]
        }
      ]
    }
  ]
}