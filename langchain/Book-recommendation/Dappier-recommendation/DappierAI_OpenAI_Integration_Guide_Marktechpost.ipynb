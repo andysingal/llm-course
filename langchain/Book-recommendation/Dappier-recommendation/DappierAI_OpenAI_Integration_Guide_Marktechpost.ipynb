{
  "nbformat": 4,
  "nbformat_minor": 0,
  "metadata": {
    "colab": {
      "provenance": []
    },
    "kernelspec": {
      "name": "python3",
      "display_name": "Python 3"
    },
    "language_info": {
      "name": "python"
    }
  },
  "cells": [
    {
      "cell_type": "code",
      "source": [
        "!pip install -qU langchain-dappier langchain langchain-openai langchain-community langchain-core openai"
      ],
      "metadata": {
        "colab": {
          "base_uri": "https://localhost:8080/"
        },
        "id": "PxJMBY3u-hgW",
        "outputId": "b362b6b3-8067-4ffa-97b1-b09db5277b9a"
      },
      "execution_count": null,
      "outputs": [
        {
          "output_type": "stream",
          "name": "stdout",
          "text": [
            "\u001b[2K   \u001b[90m━━━━━━━━━━━━━━━━━━━━━━━━━━━━━━━━━━━━━━━━\u001b[0m \u001b[32m62.4/62.4 kB\u001b[0m \u001b[31m2.0 MB/s\u001b[0m eta \u001b[36m0:00:00\u001b[0m\n",
            "\u001b[2K   \u001b[90m━━━━━━━━━━━━━━━━━━━━━━━━━━━━━━━━━━━━━━━━\u001b[0m \u001b[32m1.2/1.2 MB\u001b[0m \u001b[31m16.0 MB/s\u001b[0m eta \u001b[36m0:00:00\u001b[0m\n",
            "\u001b[?25h"
          ]
        }
      ]
    },
    {
      "cell_type": "code",
      "source": [
        "import os\n",
        "from getpass import getpass\n",
        "\n",
        "os.environ[\"DAPPIER_API_KEY\"] = getpass(\"Enter your Dappier API key: \")\n",
        "\n",
        "os.environ[\"OPENAI_API_KEY\"] = getpass(\"Enter your OpenAI API key: \")"
      ],
      "metadata": {
        "colab": {
          "base_uri": "https://localhost:8080/"
        },
        "id": "SdfxIIYz-jEm",
        "outputId": "daffc3ce-d430-4670-f022-cf01e0d46174"
      },
      "execution_count": null,
      "outputs": [
        {
          "name": "stdout",
          "output_type": "stream",
          "text": [
            "Enter your Dappier API key: ··········\n",
            "Enter your OpenAI API key: ··········\n"
          ]
        }
      ]
    },
    {
      "cell_type": "code",
      "source": [
        "from langchain_dappier import DappierRealTimeSearchTool\n",
        "\n",
        "search_tool = DappierRealTimeSearchTool()\n",
        "print(\"Real-time search tool ready:\", search_tool)"
      ],
      "metadata": {
        "colab": {
          "base_uri": "https://localhost:8080/"
        },
        "id": "7VrfpgtW-uod",
        "outputId": "425f32f6-1d36-468c-ab6d-0a77ca1e05ab"
      },
      "execution_count": null,
      "outputs": [
        {
          "output_type": "stream",
          "name": "stdout",
          "text": [
            "Real-time search tool ready: \n"
          ]
        }
      ]
    },
    {
      "cell_type": "code",
      "source": [
        "from langchain_dappier import DappierAIRecommendationTool\n",
        "\n",
        "recommendation_tool = DappierAIRecommendationTool(\n",
        "    data_model_id=\"dm_01j0pb465keqmatq9k83dthx34\",\n",
        "    similarity_top_k=3,\n",
        "    ref=\"sportsnaut.com\",\n",
        "    num_articles_ref=2,\n",
        "    search_algorithm=\"most_recent\",\n",
        ")\n",
        "print(\"Recommendation tool ready:\", recommendation_tool)"
      ],
      "metadata": {
        "colab": {
          "base_uri": "https://localhost:8080/"
        },
        "id": "jQGnKhy_-vc2",
        "outputId": "4cb6cee8-c61d-426c-866f-dafa76183e61"
      },
      "execution_count": null,
      "outputs": [
        {
          "output_type": "stream",
          "name": "stdout",
          "text": [
            "Recommendation tool ready: similarity_top_k=3 ref='sportsnaut.com' num_articles_ref=2\n"
          ]
        }
      ]
    },
    {
      "cell_type": "code",
      "source": [
        "from langchain.chat_models import init_chat_model\n",
        "\n",
        "llm = init_chat_model(\n",
        "    model=\"gpt-3.5-turbo\",\n",
        "    model_provider=\"openai\",\n",
        "    temperature=0,\n",
        ")\n",
        "llm_with_tools = llm.bind_tools([search_tool])\n",
        "print(\"✅ llm_with_tools ready\")"
      ],
      "metadata": {
        "colab": {
          "base_uri": "https://localhost:8080/"
        },
        "id": "OlaffrXh-zxn",
        "outputId": "b8fc81e3-9b5f-41cb-cc7e-9925d4fe48c2"
      },
      "execution_count": null,
      "outputs": [
        {
          "output_type": "stream",
          "name": "stdout",
          "text": [
            "✅ llm_with_tools ready\n"
          ]
        }
      ]
    },
    {
      "cell_type": "code",
      "source": [
        "import datetime\n",
        "from langchain_core.prompts import ChatPromptTemplate\n",
        "\n",
        "today = datetime.datetime.today().strftime(\"%Y-%m-%d\")\n",
        "prompt = ChatPromptTemplate([\n",
        "    (\"system\", f\"You are a helpful assistant. Today is {today}.\"),\n",
        "    (\"human\", \"{user_input}\"),\n",
        "    (\"placeholder\", \"{messages}\"),\n",
        "])\n",
        "\n",
        "llm_chain = prompt | llm_with_tools\n",
        "print(\"✅ llm_chain built\")"
      ],
      "metadata": {
        "colab": {
          "base_uri": "https://localhost:8080/"
        },
        "id": "EZ_bb5hX_Tkv",
        "outputId": "546122aa-325b-4783-a33a-078fc179a830"
      },
      "execution_count": null,
      "outputs": [
        {
          "output_type": "stream",
          "name": "stdout",
          "text": [
            "✅ llm_chain built\n"
          ]
        }
      ]
    },
    {
      "cell_type": "code",
      "source": [
        "from langchain_core.runnables import RunnableConfig, chain\n",
        "\n",
        "@chain\n",
        "def tool_chain(user_input: str, config: RunnableConfig):\n",
        "    ai_msg = llm_chain.invoke({\"user_input\": user_input}, config=config)\n",
        "    tool_msgs = search_tool.batch(ai_msg.tool_calls, config=config)\n",
        "    return llm_chain.invoke(\n",
        "        {\"user_input\": user_input, \"messages\": [ai_msg, *tool_msgs]},\n",
        "        config=config\n",
        "    )\n",
        "\n",
        "print(\"✅ tool_chain defined\")"
      ],
      "metadata": {
        "colab": {
          "base_uri": "https://localhost:8080/"
        },
        "id": "bJgD__Bu_Wee",
        "outputId": "71268735-3335-40ba-c52d-0277dd9fb341"
      },
      "execution_count": null,
      "outputs": [
        {
          "output_type": "stream",
          "name": "stdout",
          "text": [
            "✅ tool_chain defined\n"
          ]
        }
      ]
    },
    {
      "cell_type": "code",
      "source": [
        "res = search_tool.invoke({\"query\": \"What happened at the last Wrestlemania\"})\n",
        "print(\"🔍 Search:\", res)"
      ],
      "metadata": {
        "colab": {
          "base_uri": "https://localhost:8080/"
        },
        "id": "S-0sJ4I7_ZrP",
        "outputId": "90997de0-36fc-4040-81bb-ca9c42b687e1"
      },
      "execution_count": null,
      "outputs": [
        {
          "output_type": "stream",
          "name": "stdout",
          "text": [
            "🔍 Search: At WrestleMania 41, some major highlights included:\n",
            "\n",
            "- **John Cena** made history by winning his 17th WWE Championship, marking a huge milestone in his career! 🎉\n",
            "- In the main event of Night 1, **Seth Rollins** defeated **CM Punk** and **Roman Reigns** in a thrilling triple threat match. 🤼‍♂️\n",
            "- On Night 2, **Roman Reigns** defended his title against **Cody Rhodes** under Bloodline Rules, and in a big twist, he defeated **Brock Lesnar** to unify both the Universal and WWE Championships! 🏆\n",
            "\n",
            "The event was packed with excitement and drama, making it a memorable WrestleMania! 🥳\n"
          ]
        }
      ]
    },
    {
      "cell_type": "code",
      "source": [
        "rec = recommendation_tool.invoke({\"query\": \"latest sports news\"})\n",
        "print(\"📄 Recommendation:\", rec)\n",
        "\n",
        "out = tool_chain.invoke(\"Who won the last Nobel Prize?\")\n",
        "print(\"🤖 Chain output:\", out)"
      ],
      "metadata": {
        "id": "LqqqhCxZ_eD2"
      },
      "execution_count": null,
      "outputs": []
    }
  ]
}