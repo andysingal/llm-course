{
 "cells": [
  {
   "cell_type": "markdown",
   "id": "25247509",
   "metadata": {},
   "source": [
    "### Load and Analyze the Image"
   ]
  },
  {
   "cell_type": "code",
   "execution_count": 1,
   "id": "12900c2e",
   "metadata": {},
   "outputs": [],
   "source": [
    "import ollama"
   ]
  },
  {
   "cell_type": "code",
   "execution_count": 15,
   "id": "6be97bab",
   "metadata": {},
   "outputs": [],
   "source": [
    "image_path = r'pics\\Receipt.jpg'  # Replace with your image path\n",
    "\n",
    "# Use Ollama to analyze the image with Llama 3.2-Vision\n",
    "response = ollama.chat(\n",
    "    model=\"llama3.2-vision\",\n",
    "    messages=[{\n",
    "      \"role\": \"user\",\n",
    "      \"content\": \"get all the data from the image\",\n",
    "      \"images\": [image_path]\n",
    "    }],\n",
    ")\n"
   ]
  },
  {
   "cell_type": "code",
   "execution_count": 16,
   "id": "27160ff8",
   "metadata": {},
   "outputs": [
    {
     "name": "stdout",
     "output_type": "stream",
     "text": [
      "Model Response: Here is a detailed breakdown of the information presented in the image:\n",
      "\n",
      "**Invoice Information**\n",
      "\n",
      "* **Company Name:** East Repair Inc.\n",
      "* **Address:** 1912 Harvest Lane, New York NY 12210\n",
      "* **Bill To:**\n",
      "\t+ Name: John Smith\n",
      "\t+ Address: 3787 Pineview Drive, Cambridge MA 02240\n",
      "* **Ship To:**\n",
      "\t+ Same as Bill To\n",
      "\n",
      "**Invoice Details**\n",
      "\n",
      "* **Invoice Number:** Not provided\n",
      "* **Date:** February 11th, 2019 (US-001)\n",
      "* **Due Date:** February 26th, 2019\n",
      "* **Payment Terms:** Payment is due within 15 days\n",
      "\n",
      "**Items Purchased**\n",
      "\n",
      "* **Front and Rear Brake Cables:** $100.00\n",
      "* **New Set of Pedal Arms:** $30.00\n",
      "* **Labor (3 hours):** $15.00\n",
      "\n",
      "**Subtotal:** $145.00\n",
      "**Sales Tax (6.25%):** $9.06\n",
      "**Total:** $154.06\n",
      "\n",
      "**Payment Instructions**\n",
      "\n",
      "* **Method:** Bank Transfer (ABC 0560120214)\n",
      "* **Payee:** East Repair Inc.\n",
      "\n",
      "**Terms and Conditions**\n",
      "\n",
      "* Payment is due within 15 days\n",
      "* Please make checks payable to: East Repair Inc.\n",
      "\n",
      "This breakdown provides a clear and organized summary of the invoice information, including company details, billing and shipping addresses, items purchased, subtotal, sales tax, total amount, payment instructions, and terms and conditions.\n"
     ]
    }
   ],
   "source": [
    "#response['message']['content']\n",
    "# Extract the model's response about the image\n",
    "cleaned_text = response['message']['content'].strip()\n",
    "print(f\"Model Response: {cleaned_text}\")"
   ]
  },
  {
   "cell_type": "markdown",
   "id": "d6646cd4",
   "metadata": {},
   "source": [
    "### Structured JSON Output"
   ]
  },
  {
   "cell_type": "code",
   "execution_count": 17,
   "id": "556eb6d0",
   "metadata": {},
   "outputs": [],
   "source": [
    "from langchain_ollama import ChatOllama\n",
    "import os\n",
    "from langchain_core.prompts import ChatPromptTemplate\n",
    "from langchain_core.output_parsers import StrOutputParser\n",
    "import re"
   ]
  },
  {
   "cell_type": "code",
   "execution_count": 18,
   "id": "c4eb1485",
   "metadata": {},
   "outputs": [],
   "source": [
    "# Define the template\n",
    "def get_response(response):\n",
    "        #input_variables=[\"response\"],\n",
    "    template=\"\"\" Extract the following receipt details from the provided text response and return them as a structured JSON object.\n",
    "\n",
    "    Fields to extract:\n",
    "    - Company\n",
    "    - Bill To (Name, Address)\n",
    "    - Ship To (Name, Address)\n",
    "    - Receipt Number\n",
    "    - Date\n",
    "    - P.O. Number\n",
    "    - Items (Description, Quantity, Unit Price, Total)\n",
    "    - Subtotal\n",
    "    - Sales Tax\n",
    "    - Total\n",
    "    - Payment Instructions (Bank Transfer, Paypal email)\n",
    "    - Terms & Conditions\n",
    "\n",
    "    Input text:\n",
    "    {response}\n",
    "\n",
    "    Return only JSON, no extra text or explanations.\n",
    "    \"\"\"\n",
    "    \n",
    "#\n",
    "    prompt = ChatPromptTemplate.from_template(template)\n",
    "\n",
    "    # llm\n",
    "    llm = ChatOllama(model=\"llama3\",  temperature=0)\n",
    "\n",
    "    chain = ( prompt\n",
    "    | llm\n",
    "    | StrOutputParser()\n",
    "    )\n",
    "\n",
    "    return chain.invoke({\n",
    "    \"response\": response,\n",
    "    })\n"
   ]
  },
  {
   "cell_type": "code",
   "execution_count": 19,
   "id": "e0d10f52",
   "metadata": {},
   "outputs": [],
   "source": [
    "result = get_response(cleaned_text)"
   ]
  },
  {
   "cell_type": "code",
   "execution_count": 20,
   "id": "890ef9a5",
   "metadata": {},
   "outputs": [
    {
     "data": {
      "text/plain": [
       "'Here is the extracted receipt details in a structured JSON object:\\n\\n```\\n{\\n  \"Company\": \"East Repair Inc.\",\\n  \"Bill To\": {\\n    \"Name\": \"John Smith\",\\n    \"Address\": \"3787 Pineview Drive, Cambridge MA 02240\"\\n  },\\n  \"Ship To\": {\\n    \"Name\": \"John Smith\",\\n    \"Address\": \"3787 Pineview Drive, Cambridge MA 02240\"\\n  },\\n  \"Receipt Number\": null,\\n  \"Date\": \"February 11th, 2019\",\\n  \"P. O. Number\": null,\\n  \"Items\": [\\n    {\\n      \"Description\": \"Front and Rear Brake Cables\",\\n      \"Quantity\": null,\\n      \"Unit Price\": 100.0,\\n      \"Total\": 100.0\\n    },\\n    {\\n      \"Description\": \"New Set of Pedal Arms\",\\n      \"Quantity\": null,\\n      \"Unit Price\": 30.0,\\n      \"Total\": 30.0\\n    },\\n    {\\n      \"Description\": \"Labor (3 hours)\",\\n      \"Quantity\": null,\\n      \"Unit Price\": 15.0,\\n      \"Total\": 15.0\\n    }\\n  ],\\n  \"Subtotal\": 145.0,\\n  \"Sales Tax\": 9.06,\\n  \"Total\": 154.06,\\n  \"Payment Instructions\": {\\n    \"Method\": \"Bank Transfer\",\\n    \"Payee\": \"East Repair Inc.\",\\n    \"Account Number\": \"ABC 0560120214\"\\n  },\\n  \"Terms & Conditions\": [\\n    \"Payment is due within 15 days\",\\n    \"Please make checks payable to: East Repair Inc.\"\\n  ]\\n}\\n```'"
      ]
     },
     "execution_count": 20,
     "metadata": {},
     "output_type": "execute_result"
    }
   ],
   "source": [
    "result"
   ]
  },
  {
   "cell_type": "markdown",
   "id": "0ab5cf00",
   "metadata": {
    "heading_collapsed": true
   },
   "source": [
    "###  Extract the JSON with Regex"
   ]
  },
  {
   "cell_type": "code",
   "execution_count": 21,
   "id": "957123e6",
   "metadata": {
    "hidden": true
   },
   "outputs": [
    {
     "name": "stdout",
     "output_type": "stream",
     "text": [
      "{\n",
      "  \"Company\": \"East Repair Inc.\",\n",
      "  \"Bill To\": {\n",
      "    \"Name\": \"John Smith\",\n",
      "    \"Address\": \"3787 Pineview Drive, Cambridge MA 02240\"\n",
      "  },\n",
      "  \"Ship To\": {\n",
      "    \"Name\": \"John Smith\",\n",
      "    \"Address\": \"3787 Pineview Drive, Cambridge MA 02240\"\n",
      "  },\n",
      "  \"Receipt Number\": null,\n",
      "  \"Date\": \"February 11th, 2019\",\n",
      "  \"P. O. Number\": null,\n",
      "  \"Items\": [\n",
      "    {\n",
      "      \"Description\": \"Front and Rear Brake Cables\",\n",
      "      \"Quantity\": null,\n",
      "      \"Unit Price\": 100.0,\n",
      "      \"Total\": 100.0\n",
      "    },\n",
      "    {\n",
      "      \"Description\": \"New Set of Pedal Arms\",\n",
      "      \"Quantity\": null,\n",
      "      \"Unit Price\": 30.0,\n",
      "      \"Total\": 30.0\n",
      "    },\n",
      "    {\n",
      "      \"Description\": \"Labor (3 hours)\",\n",
      "      \"Quantity\": null,\n",
      "      \"Unit Price\": 15.0,\n",
      "      \"Total\": 15.0\n",
      "    }\n",
      "  ],\n",
      "  \"Subtotal\": 145.0,\n",
      "  \"Sales Tax\": 9.06,\n",
      "  \"Total\": 154.06,\n",
      "  \"Payment Instructions\": {\n",
      "    \"Method\": \"Bank Transfer\",\n",
      "    \"Payee\": \"East Repair Inc.\",\n",
      "    \"Account Number\": \"ABC 0560120214\"\n",
      "  },\n",
      "  \"Terms & Conditions\": [\n",
      "    \"Payment is due within 15 days\",\n",
      "    \"Please make checks payable to: East Repair Inc.\"\n",
      "  ]\n",
      "}\n"
     ]
    }
   ],
   "source": [
    "import re\n",
    "json_match = re.search(r\"```\\n(.*?)\\n```\", result, re.DOTALL)\n",
    "\n",
    "if json_match:\n",
    "    receipt_data = json_match.group(1)\n",
    "    try:\n",
    "        parsed_data = json.loads(receipt_data)\n",
    "        json_data = json.dumps(parsed_data, indent=2)\n",
    "        print(json.dumps(parsed_data, indent=2))\n",
    "    except json.JSONDecodeError:\n",
    "        print(\"Failed to parse JSON.\")\n",
    "else:\n",
    "    print(\"No JSON found.\")"
   ]
  },
  {
   "cell_type": "markdown",
   "id": "c1215be9",
   "metadata": {
    "heading_collapsed": true
   },
   "source": [
    "### Convert to json to a Pandas DataFrame"
   ]
  },
  {
   "cell_type": "code",
   "execution_count": 22,
   "id": "f114cf3c",
   "metadata": {
    "hidden": true
   },
   "outputs": [
    {
     "data": {
      "text/plain": [
       "{'Company': 'East Repair Inc.',\n",
       " 'Bill To': {'Name': 'John Smith',\n",
       "  'Address': '3787 Pineview Drive, Cambridge MA 02240'},\n",
       " 'Ship To': {'Name': 'John Smith',\n",
       "  'Address': '3787 Pineview Drive, Cambridge MA 02240'},\n",
       " 'Receipt Number': None,\n",
       " 'Date': 'February 11th, 2019',\n",
       " 'P. O. Number': None,\n",
       " 'Items': [{'Description': 'Front and Rear Brake Cables',\n",
       "   'Quantity': None,\n",
       "   'Unit Price': 100.0,\n",
       "   'Total': 100.0},\n",
       "  {'Description': 'New Set of Pedal Arms',\n",
       "   'Quantity': None,\n",
       "   'Unit Price': 30.0,\n",
       "   'Total': 30.0},\n",
       "  {'Description': 'Labor (3 hours)',\n",
       "   'Quantity': None,\n",
       "   'Unit Price': 15.0,\n",
       "   'Total': 15.0}],\n",
       " 'Subtotal': 145.0,\n",
       " 'Sales Tax': 9.06,\n",
       " 'Total': 154.06,\n",
       " 'Payment Instructions': {'Method': 'Bank Transfer',\n",
       "  'Payee': 'East Repair Inc.',\n",
       "  'Account Number': 'ABC 0560120214'},\n",
       " 'Terms & Conditions': ['Payment is due within 15 days',\n",
       "  'Please make checks payable to: East Repair Inc.']}"
      ]
     },
     "execution_count": 22,
     "metadata": {},
     "output_type": "execute_result"
    }
   ],
   "source": [
    "import pandas as pd\n",
    "import json\n",
    "#\n",
    "receipt_dict = json.loads(json_data)\n",
    "receipt_dict"
   ]
  },
  {
   "cell_type": "code",
   "execution_count": 23,
   "id": "e0895aae",
   "metadata": {
    "hidden": true
   },
   "outputs": [
    {
     "data": {
      "text/html": [
       "<div>\n",
       "<style scoped>\n",
       "    .dataframe tbody tr th:only-of-type {\n",
       "        vertical-align: middle;\n",
       "    }\n",
       "\n",
       "    .dataframe tbody tr th {\n",
       "        vertical-align: top;\n",
       "    }\n",
       "\n",
       "    .dataframe thead th {\n",
       "        text-align: right;\n",
       "    }\n",
       "</style>\n",
       "<table border=\"1\" class=\"dataframe\">\n",
       "  <thead>\n",
       "    <tr style=\"text-align: right;\">\n",
       "      <th></th>\n",
       "      <th>Description</th>\n",
       "      <th>Quantity</th>\n",
       "      <th>Unit Price</th>\n",
       "      <th>Total</th>\n",
       "    </tr>\n",
       "  </thead>\n",
       "  <tbody>\n",
       "    <tr>\n",
       "      <th>0</th>\n",
       "      <td>Front and Rear Brake Cables</td>\n",
       "      <td>None</td>\n",
       "      <td>100.0</td>\n",
       "      <td>100.0</td>\n",
       "    </tr>\n",
       "    <tr>\n",
       "      <th>1</th>\n",
       "      <td>New Set of Pedal Arms</td>\n",
       "      <td>None</td>\n",
       "      <td>30.0</td>\n",
       "      <td>30.0</td>\n",
       "    </tr>\n",
       "    <tr>\n",
       "      <th>2</th>\n",
       "      <td>Labor (3 hours)</td>\n",
       "      <td>None</td>\n",
       "      <td>15.0</td>\n",
       "      <td>15.0</td>\n",
       "    </tr>\n",
       "  </tbody>\n",
       "</table>\n",
       "</div>"
      ],
      "text/plain": [
       "                   Description Quantity  Unit Price  Total\n",
       "0  Front and Rear Brake Cables     None       100.0  100.0\n",
       "1        New Set of Pedal Arms     None        30.0   30.0\n",
       "2              Labor (3 hours)     None        15.0   15.0"
      ]
     },
     "execution_count": 23,
     "metadata": {},
     "output_type": "execute_result"
    }
   ],
   "source": [
    "items_df = pd.DataFrame(receipt_dict['Items'])\n",
    "items_df"
   ]
  },
  {
   "cell_type": "code",
   "execution_count": 24,
   "id": "4f721cba",
   "metadata": {
    "hidden": true
   },
   "outputs": [],
   "source": [
    "# Optionally, add general receipt details as columns\n",
    "receipt_details = {\n",
    "    \"Company\": receipt_dict['Company'],\n",
    "    \"Bill To\": f\"{receipt_dict['Bill To']['Name']}, {receipt_dict['Bill To']['Address']}\",\n",
    "    \"Receipt Number\": receipt_dict['Receipt Number'],\n",
    "    \"Date\": receipt_dict['Date'],\n",
    "    \"Subtotal\": receipt_dict['Subtotal'],\n",
    "    \"Tax\": receipt_dict['Sales Tax'],\n",
    "    \"Total\": receipt_dict['Total'],\n",
    "    \"Payment Method\": receipt_dict['Payment Instructions']['Method']\n",
    "}"
   ]
  },
  {
   "cell_type": "code",
   "execution_count": 25,
   "id": "7a32f605",
   "metadata": {
    "hidden": true
   },
   "outputs": [
    {
     "data": {
      "text/html": [
       "<div>\n",
       "<style scoped>\n",
       "    .dataframe tbody tr th:only-of-type {\n",
       "        vertical-align: middle;\n",
       "    }\n",
       "\n",
       "    .dataframe tbody tr th {\n",
       "        vertical-align: top;\n",
       "    }\n",
       "\n",
       "    .dataframe thead th {\n",
       "        text-align: right;\n",
       "    }\n",
       "</style>\n",
       "<table border=\"1\" class=\"dataframe\">\n",
       "  <thead>\n",
       "    <tr style=\"text-align: right;\">\n",
       "      <th></th>\n",
       "      <th>Description</th>\n",
       "      <th>Quantity</th>\n",
       "      <th>Unit Price</th>\n",
       "      <th>Total</th>\n",
       "      <th>Company</th>\n",
       "      <th>Bill To</th>\n",
       "      <th>Receipt Number</th>\n",
       "      <th>Date</th>\n",
       "      <th>Subtotal</th>\n",
       "      <th>Tax</th>\n",
       "      <th>Payment Method</th>\n",
       "    </tr>\n",
       "  </thead>\n",
       "  <tbody>\n",
       "    <tr>\n",
       "      <th>0</th>\n",
       "      <td>Front and Rear Brake Cables</td>\n",
       "      <td>None</td>\n",
       "      <td>100.0</td>\n",
       "      <td>154.06</td>\n",
       "      <td>East Repair Inc.</td>\n",
       "      <td>John Smith, 3787 Pineview Drive, Cambridge MA ...</td>\n",
       "      <td>None</td>\n",
       "      <td>February 11th, 2019</td>\n",
       "      <td>145.0</td>\n",
       "      <td>9.06</td>\n",
       "      <td>Bank Transfer</td>\n",
       "    </tr>\n",
       "    <tr>\n",
       "      <th>1</th>\n",
       "      <td>New Set of Pedal Arms</td>\n",
       "      <td>None</td>\n",
       "      <td>30.0</td>\n",
       "      <td>154.06</td>\n",
       "      <td>East Repair Inc.</td>\n",
       "      <td>John Smith, 3787 Pineview Drive, Cambridge MA ...</td>\n",
       "      <td>None</td>\n",
       "      <td>February 11th, 2019</td>\n",
       "      <td>145.0</td>\n",
       "      <td>9.06</td>\n",
       "      <td>Bank Transfer</td>\n",
       "    </tr>\n",
       "    <tr>\n",
       "      <th>2</th>\n",
       "      <td>Labor (3 hours)</td>\n",
       "      <td>None</td>\n",
       "      <td>15.0</td>\n",
       "      <td>154.06</td>\n",
       "      <td>East Repair Inc.</td>\n",
       "      <td>John Smith, 3787 Pineview Drive, Cambridge MA ...</td>\n",
       "      <td>None</td>\n",
       "      <td>February 11th, 2019</td>\n",
       "      <td>145.0</td>\n",
       "      <td>9.06</td>\n",
       "      <td>Bank Transfer</td>\n",
       "    </tr>\n",
       "  </tbody>\n",
       "</table>\n",
       "</div>"
      ],
      "text/plain": [
       "                   Description Quantity  Unit Price   Total           Company  \\\n",
       "0  Front and Rear Brake Cables     None       100.0  154.06  East Repair Inc.   \n",
       "1        New Set of Pedal Arms     None        30.0  154.06  East Repair Inc.   \n",
       "2              Labor (3 hours)     None        15.0  154.06  East Repair Inc.   \n",
       "\n",
       "                                             Bill To Receipt Number  \\\n",
       "0  John Smith, 3787 Pineview Drive, Cambridge MA ...           None   \n",
       "1  John Smith, 3787 Pineview Drive, Cambridge MA ...           None   \n",
       "2  John Smith, 3787 Pineview Drive, Cambridge MA ...           None   \n",
       "\n",
       "                  Date  Subtotal   Tax Payment Method  \n",
       "0  February 11th, 2019     145.0  9.06  Bank Transfer  \n",
       "1  February 11th, 2019     145.0  9.06  Bank Transfer  \n",
       "2  February 11th, 2019     145.0  9.06  Bank Transfer  "
      ]
     },
     "execution_count": 25,
     "metadata": {},
     "output_type": "execute_result"
    }
   ],
   "source": [
    "# Add receipt details as columns to each item row\n",
    "for key, value in receipt_details.items():\n",
    "    items_df[key] = value\n",
    "#\n",
    "items_df"
   ]
  },
  {
   "cell_type": "code",
   "execution_count": 13,
   "id": "9ea8314b",
   "metadata": {
    "hidden": true
   },
   "outputs": [],
   "source": [
    "#items_df['Line Total'] = items_df['Quantity'] * items_df['Unit Price']"
   ]
  },
  {
   "cell_type": "code",
   "execution_count": 26,
   "id": "34cd5920",
   "metadata": {
    "hidden": true
   },
   "outputs": [],
   "source": [
    "#items_df"
   ]
  },
  {
   "cell_type": "code",
   "execution_count": null,
   "id": "d8e51b90",
   "metadata": {
    "hidden": true
   },
   "outputs": [],
   "source": []
  },
  {
   "cell_type": "code",
   "execution_count": null,
   "id": "37a7389b",
   "metadata": {
    "hidden": true
   },
   "outputs": [],
   "source": []
  }
 ],
 "metadata": {
  "kernelspec": {
   "display_name": "llm_env",
   "language": "python",
   "name": "llm_env"
  },
  "language_info": {
   "codemirror_mode": {
    "name": "ipython",
    "version": 3
   },
   "file_extension": ".py",
   "mimetype": "text/x-python",
   "name": "python",
   "nbconvert_exporter": "python",
   "pygments_lexer": "ipython3",
   "version": "3.12.3"
  }
 },
 "nbformat": 4,
 "nbformat_minor": 5
}
